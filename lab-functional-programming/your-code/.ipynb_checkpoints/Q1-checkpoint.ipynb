{
 "cells": [
  {
   "cell_type": "markdown",
   "metadata": {},
   "source": [
    "In the cell below, create a Python function that wraps your previous solution for the Bag of Words lab.\n",
    "\n",
    "Requirements:\n",
    "\n",
    "1. Your function should accept the following parameters:\n",
    "    * `docs` [REQUIRED] - array of document paths.\n",
    "    * `stop_words` [OPTIONAL] - array of stop words. The default value is an empty array.\n",
    "\n",
    "1. Your function should return a Python object that contains the following:\n",
    "    * `bag_of_words` - array of strings of normalized unique words in the corpus.\n",
    "    * `term_freq` - array of the term-frequency vectors."
   ]
  },
  {
   "cell_type": "code",
   "execution_count": 34,
   "metadata": {},
   "outputs": [],
   "source": [
    "# Import required libraries\n",
    "import os\n",
    "\n",
    "# Define function\n",
    "def get_bow_from_docs(docs, stop_words=[]):\n",
    "    \n",
    "    # In the function, first define the variables you will use such as `corpus`, `bag_of_words`, and `term_freq`.\n",
    "    corpus = []\n",
    "    bag_of_words = []\n",
    "    term_freq = []\n",
    "    \n",
    "    \n",
    "    \"\"\"\n",
    "    Loop `docs` and read the content of each doc into a string in `corpus`.\n",
    "    Remember to convert the doc content to lowercases and remove punctuation.\n",
    "    \"\"\"\n",
    "    for doc in docs:\n",
    "        f = open(doc, 'r')\n",
    "        remove_punctuation = '.,\\n'\n",
    "        clean = f.read()\n",
    "        for punctuation in remove_punctuation:\n",
    "            clean = clean.replace(punctuation, '')\n",
    "        corpus.append(clean.lower())\n",
    "    \n",
    "    \"\"\"\n",
    "    Loop `corpus`. Append the terms in each doc into the `bag_of_words` array. The terms in `bag_of_words` \n",
    "    should be unique which means before adding each term you need to check if it's already added to the array.\n",
    "    In addition, check if each term is in the `stop_words` array. Only append the term to `bag_of_words`\n",
    "    if it is not a stop word.\n",
    "    \"\"\"\n",
    "    for doc in corpus:\n",
    "        for word in doc.split():\n",
    "            if word not in bag_of_words and word not in stop_words:\n",
    "                bag_of_words.append(word)\n",
    "    \n",
    "    \n",
    "    \"\"\"\n",
    "    Loop `corpus` again. For each doc string, count the number of occurrences of each term in `bag_of_words`. \n",
    "    Create an array for each doc's term frequency and append it to `term_freq`.\n",
    "    \"\"\"\n",
    "    for doc in corpus:\n",
    "        term_freq_doc = []\n",
    "        for word in bag_of_words:\n",
    "            term_freq_doc.append(doc.split().count(word))\n",
    "        term_freq.append(term_freq_doc)\n",
    "    \n",
    "    \n",
    "    # Now return your output as an object\n",
    "    return {\n",
    "        \"bag_of_words\": bag_of_words,\n",
    "        \"term_freq\": term_freq\n",
    "    }\n",
    "    "
   ]
  },
  {
   "cell_type": "markdown",
   "metadata": {},
   "source": [
    "Test your function without stop words. You should see the output like below:\n",
    "\n",
    "```{'bag_of_words': ['ironhack', 'is', 'cool', 'i', 'love', 'am', 'a', 'student', 'at'], 'term_freq': [[1, 1, 1, 0, 0, 0, 0, 0, 0], [1, 0, 0, 1, 1, 0, 0, 0, 0], [1, 0, 0, 1, 0, 1, 1, 1, 1]]}```"
   ]
  },
  {
   "cell_type": "code",
   "execution_count": 35,
   "metadata": {},
   "outputs": [
    {
     "name": "stdout",
     "output_type": "stream",
     "text": [
      "{'bag_of_words': ['ironhack', 'is', 'cool', 'i', 'love', 'am', 'a', 'student', 'at'], 'term_freq': [[1, 1, 1, 0, 0, 0, 0, 0, 0], [1, 0, 0, 1, 1, 0, 0, 0, 0], [1, 0, 0, 1, 0, 1, 1, 1, 1]]}\n"
     ]
    }
   ],
   "source": [
    "# Define doc paths array\n",
    "docs = [doc for doc in os.listdir('.') if doc[-4:] == '.txt']\n",
    "\n",
    "# Obtain BoW from your function\n",
    "bow = get_bow_from_docs(docs)\n",
    "\n",
    "# Print BoW\n",
    "print(bow)"
   ]
  },
  {
   "cell_type": "markdown",
   "metadata": {},
   "source": [
    "If your attempt above is successful, nice work done!\n",
    "\n",
    "Now test your function again with the stop words. In the previous lab we defined the stop words in a large array. In this lab, we'll import the stop words from Scikit-Learn."
   ]
  },
  {
   "cell_type": "code",
   "execution_count": 36,
   "metadata": {},
   "outputs": [
    {
     "name": "stdout",
     "output_type": "stream",
     "text": [
      "frozenset({'call', 'before', 'herein', 'thereafter', 'a', 'are', 'everyone', 'might', 'become', 'give', 'always', 'no', 'put', 'sincere', 'whereupon', 'six', 'even', 'were', 'do', 'less', 'is', 'name', 'hereupon', 'something', 'you', 'their', 'see', 'here', 're', 'for', 'whereafter', 'without', 'fire', 'himself', 'being', 'above', 'will', 'alone', 'has', 'own', 'few', 'amount', 'hereby', 'how', 'rather', 'go', 'most', 'beforehand', 'me', 'yourselves', 'show', 'latterly', 'last', 'onto', 'or', 'somewhere', 'well', 'since', 'therefore', 'two', 'enough', 'except', 'also', 'should', 'thence', 'find', 'nothing', 'by', 'noone', 'somehow', 'un', 'back', 'thru', 'what', 'almost', 'hundred', 'anywhere', 'everywhere', 'beside', 'up', 'at', 'formerly', 'nor', 'while', 'have', 'nowhere', 'your', 'which', 'namely', 'thin', 'towards', 'was', 'ltd', 'whole', 'each', 'ours', 'i', 'themselves', 'between', 'elsewhere', 'over', 'among', 'one', 'around', 'hasnt', 'first', 'indeed', 'through', 'forty', 'nobody', 'many', 'than', 'detail', 'her', 'thick', 'these', 'whoever', 'some', 'be', 'whether', 'couldnt', 'whose', 'had', 'empty', 'such', 'wherever', 'wherein', 'this', 'amongst', 'full', 'afterwards', 'ten', 'whenever', 'across', 'side', 'via', 'she', 'system', 'anyway', 'least', 'etc', 'he', 'an', 'about', 'until', 'not', 'during', 'we', 'otherwise', 'could', 'eleven', 'when', 'another', 'cannot', 'after', 'both', 'as', 'where', 'ever', 'becomes', 'con', 'either', 'part', 'whereby', 'they', 'thereby', 'those', 'there', 'of', 'into', 'became', 'latter', 'once', 'twenty', 'someone', 'everything', 'every', 'if', 'ie', 'seeming', 'yours', 'who', 'perhaps', 'none', 'front', 'our', 'upon', 'the', 'within', 'mine', 'herself', 'his', 'serious', 'bill', 'however', 'hereafter', 'therein', 'keep', 'made', 'my', 'thus', 'else', 'myself', 'sometimes', 'with', 'eg', 'beyond', 'co', 'on', 'now', 'must', 'although', 'interest', 'get', 'thereupon', 'amoungst', 'seems', 'any', 'other', 'been', 'more', 'becoming', 'per', 'three', 'may', 'whence', 'cant', 'anyone', 'off', 'still', 'nine', 'describe', 'very', 'below', 'twelve', 'that', 'seemed', 'fifty', 'several', 'then', 'found', 'along', 'though', 'whatever', 'de', 'down', 'whither', 'seem', 'but', 'often', 'hers', 'next', 'cry', 'together', 'ourselves', 'whom', 'done', 'whereas', 'top', 'can', 'throughout', 'inc', 'against', 'bottom', 'mostly', 'why', 'move', 'under', 'only', 'mill', 'toward', 'yourself', 'anything', 'fifteen', 'in', 'itself', 'would', 'so', 'out', 'five', 'behind', 'meanwhile', 'eight', 'to', 'same', 'all', 'its', 'never', 'fill', 'further', 'much', 'am', 'third', 'again', 'because', 'due', 'take', 'besides', 'please', 'us', 'it', 'hence', 'sixty', 'nevertheless', 'others', 'from', 'neither', 'moreover', 'and', 'too', 'former', 'him', 'anyhow', 'sometime', 'yet', 'four', 'them', 'already'})\n"
     ]
    }
   ],
   "source": [
    "from sklearn.feature_extraction import stop_words\n",
    "print(stop_words.ENGLISH_STOP_WORDS)"
   ]
  },
  {
   "cell_type": "markdown",
   "metadata": {},
   "source": [
    "You should have seen a large list of words that looks like:\n",
    "\n",
    "```frozenset({'across', 'mine', 'cannot', ...})```\n",
    "\n",
    "`frozenset` is a type of Python object that is immutable. In this lab you can use it just like an array without conversion."
   ]
  },
  {
   "cell_type": "markdown",
   "metadata": {},
   "source": [
    "Next, test your function with supplying `stop_words.ENGLISH_STOP_WORDS` as the second parameter."
   ]
  },
  {
   "cell_type": "code",
   "execution_count": 38,
   "metadata": {},
   "outputs": [
    {
     "name": "stdout",
     "output_type": "stream",
     "text": [
      "{'bag_of_words': ['ironhack', 'cool', 'love', 'student'], 'term_freq': [[1, 1, 0, 0], [1, 0, 1, 0], [1, 0, 0, 1]]}\n"
     ]
    }
   ],
   "source": [
    "bow = get_bow_from_docs(docs, stop_words.ENGLISH_STOP_WORDS)\n",
    "\n",
    "print(bow)"
   ]
  },
  {
   "cell_type": "markdown",
   "metadata": {},
   "source": [
    "You should have seen:\n",
    "\n",
    "```{'bag_of_words': ['ironhack', 'cool', 'love', 'student'], 'term_freq': [[1, 1, 0, 0], [1, 0, 1, 0], [1, 0, 0, 1]]}```"
   ]
  },
  {
   "cell_type": "code",
   "execution_count": null,
   "metadata": {},
   "outputs": [],
   "source": []
  }
 ],
 "metadata": {
  "kernelspec": {
   "display_name": "Python 3",
   "language": "python",
   "name": "python3"
  },
  "language_info": {
   "codemirror_mode": {
    "name": "ipython",
    "version": 3
   },
   "file_extension": ".py",
   "mimetype": "text/x-python",
   "name": "python",
   "nbconvert_exporter": "python",
   "pygments_lexer": "ipython3",
   "version": "3.7.6"
  }
 },
 "nbformat": 4,
 "nbformat_minor": 2
}
